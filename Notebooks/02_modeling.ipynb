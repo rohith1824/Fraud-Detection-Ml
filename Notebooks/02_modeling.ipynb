{
 "cells": [
  {
   "cell_type": "markdown",
   "id": "bea48349",
   "metadata": {},
   "source": [
    "# Modeling\n",
    "Experiment different algorithms and pick best model"
   ]
  },
  {
   "cell_type": "code",
   "execution_count": 61,
   "id": "10d57123",
   "metadata": {},
   "outputs": [],
   "source": [
    "# Imports\n",
    "import numpy as np\n",
    "import pandas as pd\n",
    "from sklearn.ensemble import RandomForestClassifier\n",
    "from lightgbm import LGBMClassifier\n",
    "from sklearn.dummy import DummyClassifier\n",
    "from sklearn.metrics import roc_auc_score\n",
    "from sklearn.tree import DecisionTreeClassifier"
   ]
  },
  {
   "cell_type": "code",
   "execution_count": 46,
   "id": "2289fed5",
   "metadata": {},
   "outputs": [
    {
     "name": "stdout",
     "output_type": "stream",
     "text": [
      "Train shape: (192964, 11),  Val shape: (41349, 11)\n"
     ]
    }
   ],
   "source": [
    "# load in split data\n",
    "X_train = np.load(\"/Users/rohith/Desktop/fraud-detection-ml/Data/prep/creditcard_X_train.npy\")\n",
    "y_train = np.load(\"/Users/rohith/Desktop/fraud-detection-ml/Data/prep/creditcard_y_train.npy\")\n",
    "X_val   = np.load(\"/Users/rohith/Desktop/fraud-detection-ml/Data/prep/creditcard_X_val.npy\")\n",
    "y_val   = np.load(\"/Users/rohith/Desktop/fraud-detection-ml/Data/prep/creditcard_y_val.npy\")\n",
    "x_test = np.load(\"/Users/rohith/Desktop/fraud-detection-ml/Data/prep/creditcard_X_test.npy\")\n",
    "y_test   = np.load(\"/Users/rohith/Desktop/fraud-detection-ml/Data/prep/creditcard_y_test.npy\")\n",
    "\n",
    "print(f\"Train shape: {X_train.shape},  Val shape: {X_val.shape}\")"
   ]
  },
  {
   "cell_type": "markdown",
   "id": "a48a7435",
   "metadata": {},
   "source": [
    "### Baseline runs"
   ]
  },
  {
   "cell_type": "code",
   "execution_count": 52,
   "id": "7ced6f06",
   "metadata": {},
   "outputs": [
    {
     "name": "stdout",
     "output_type": "stream",
     "text": [
      "Dummy AUC: 0.5\n"
     ]
    }
   ],
   "source": [
    "# Dummy\n",
    "dummy = DummyClassifier(strategy=\"most_frequent\")\n",
    "dummy.fit(X_train, y_train)\n",
    "print(\"Dummy AUC:\", roc_auc_score(y_val, dummy.predict_proba(X_val)[:,1]))"
   ]
  },
  {
   "cell_type": "code",
   "execution_count": 53,
   "id": "4f75c7a7",
   "metadata": {},
   "outputs": [
    {
     "name": "stdout",
     "output_type": "stream",
     "text": [
      "Shallow Tree AUC: 0.6963779748210523\n"
     ]
    }
   ],
   "source": [
    "# Shallow Tree\n",
    "tree = DecisionTreeClassifier(max_depth=3)\n",
    "tree.fit(X_train, y_train)\n",
    "print(\"Shallow Tree AUC:\",\n",
    "      roc_auc_score(y_val, tree.predict_proba(X_val)[:,1]))\n"
   ]
  },
  {
   "cell_type": "code",
   "execution_count": 58,
   "id": "7970d683",
   "metadata": {},
   "outputs": [
    {
     "name": "stdout",
     "output_type": "stream",
     "text": [
      "RandomForest (100 trees) ROC AUC: 0.9447\n"
     ]
    }
   ],
   "source": [
    "# RandomForrest Classifier\n",
    "rForrest = RandomForestClassifier(n_estimators=100, random_state=42, n_jobs=1)\n",
    "\n",
    "rForrest.fit(X_train, y_train)\n",
    "\n",
    "prob = rForrest.predict_proba(X_val)[:, 1]\n",
    "auc = roc_auc_score(y_val, prob)\n",
    "print(\"RandomForest (100 trees) ROC AUC:\", round(auc, 4))\n"
   ]
  },
  {
   "cell_type": "code",
   "execution_count": 62,
   "id": "ab1359ba",
   "metadata": {},
   "outputs": [
    {
     "name": "stdout",
     "output_type": "stream",
     "text": [
      "[LightGBM] [Info] Number of positive: 365, number of negative: 192599\n",
      "[LightGBM] [Info] Auto-choosing row-wise multi-threading, the overhead of testing was 0.001015 seconds.\n",
      "You can set `force_row_wise=true` to remove the overhead.\n",
      "And if memory is not enough, you can set `force_col_wise=true`.\n",
      "[LightGBM] [Info] Total Bins 2805\n",
      "[LightGBM] [Info] Number of data points in the train set: 192964, number of used features: 11\n",
      "[LightGBM] [Info] [binary:BoostFromScore]: pavg=0.001892 -> initscore=-6.268468\n",
      "[LightGBM] [Info] Start training from score -6.268468\n",
      "LightGBM (is_unbalance=True) ROC AUC: 0.907\n"
     ]
    },
    {
     "name": "stderr",
     "output_type": "stream",
     "text": [
      "/Users/rohith/Desktop/fraud-detection-ml/.venv/lib/python3.11/site-packages/sklearn/utils/validation.py:2739: UserWarning: X does not have valid feature names, but LGBMClassifier was fitted with feature names\n",
      "  warnings.warn(\n"
     ]
    }
   ],
   "source": [
    "# LightGBM\n",
    "lgbm = LGBMClassifier(\n",
    "    is_unbalance=True,    \n",
    "    n_estimators=100,     \n",
    "    learning_rate=0.1, \n",
    "    random_state=42,\n",
    "    n_jobs=-1\n",
    ")\n",
    "\n",
    "lgbm.fit(X_train, y_train)\n",
    "\n",
    "proba = lgbm.predict_proba(X_val)[:, 1]\n",
    "auc = roc_auc_score(y_val, proba)\n",
    "print(\"LightGBM (is_unbalance=True) ROC AUC:\", round(auc, 4))"
   ]
  },
  {
   "cell_type": "markdown",
   "id": "4408e1ea",
   "metadata": {},
   "source": [
    "1. Dummy AUC: 0.500  \n",
    "2. Shallow Tree AUC: 0.696  \n",
    "3. RandomForest ROC AUC: 0.945  \n",
    "4. LightGBM ROC AUC: 0.907"
   ]
  },
  {
   "cell_type": "markdown",
   "id": "695a94a4",
   "metadata": {},
   "source": [
    "### Tuning Random Forrest Classifier"
   ]
  },
  {
   "cell_type": "markdown",
   "id": "d8e995a9",
   "metadata": {},
   "source": [
    "#### Randomized Search CV"
   ]
  },
  {
   "cell_type": "code",
   "execution_count": null,
   "id": "23cd917c",
   "metadata": {},
   "outputs": [],
   "source": []
  },
  {
   "cell_type": "markdown",
   "id": "8da383da",
   "metadata": {},
   "source": [
    "#### Optuna"
   ]
  },
  {
   "cell_type": "code",
   "execution_count": null,
   "id": "1aacb446",
   "metadata": {},
   "outputs": [],
   "source": []
  },
  {
   "cell_type": "markdown",
   "id": "b6801f01",
   "metadata": {},
   "source": []
  }
 ],
 "metadata": {
  "kernelspec": {
   "display_name": ".venv",
   "language": "python",
   "name": "python3"
  },
  "language_info": {
   "codemirror_mode": {
    "name": "ipython",
    "version": 3
   },
   "file_extension": ".py",
   "mimetype": "text/x-python",
   "name": "python",
   "nbconvert_exporter": "python",
   "pygments_lexer": "ipython3",
   "version": "3.11.5"
  }
 },
 "nbformat": 4,
 "nbformat_minor": 5
}
